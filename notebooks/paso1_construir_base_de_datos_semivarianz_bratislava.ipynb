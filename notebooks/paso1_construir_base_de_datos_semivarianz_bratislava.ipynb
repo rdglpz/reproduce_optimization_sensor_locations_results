{
 "cells": [
  {
   "cell_type": "code",
   "execution_count": 35,
   "id": "40118634",
   "metadata": {},
   "outputs": [],
   "source": [
    "#Cargando librerías \n",
    "\n",
    "from IPython.display import clear_output\n",
    "import importlib\n",
    "\n",
    "from PIL import Image\n",
    "import matplotlib.pyplot as plt\n",
    "import scipy as sp\n",
    "#from scipy import ndimage as ndi\n",
    "import numpy as np\n",
    "import pandas as pd\n",
    "import os\n",
    "import sys  \n",
    "\n",
    "root = os.getcwd() + \"/..\"\n",
    "\n",
    "sys.path.insert(0, root)\n",
    "\n",
    "import src.positioning_sensors as ps\n",
    "importlib.reload(ps)\n",
    "\n",
    "import src.regionGrowing as rg\n",
    "importlib.reload(rg)\n",
    "\n",
    "import src.manageExperiments as me\n",
    "importlib.reload(me)\n",
    "\n",
    "import config.config as cfg\n",
    "importlib.reload(cfg)\n",
    "\n",
    "\n",
    "from skimage.segmentation import watershed\n",
    "from skimage.feature import peak_local_max\n",
    "from skimage.filters import rank\n",
    "\n",
    "from skimage.draw import line\n"
   ]
  },
  {
   "cell_type": "code",
   "execution_count": 36,
   "id": "e8ef8f4a-c918-4884-bb49-ae893b5fbe68",
   "metadata": {},
   "outputs": [
    {
     "name": "stdout",
     "output_type": "stream",
     "text": [
      "Read File: ../experiments/bratislava_experiment.txt\n",
      "Creating Directory in: ../experiments/bratislava_experiment/\n",
      "Creating Directory ../experiments/bratislava_experiment/results/\n",
      "Creating Directory: ../experiments/bratislava_experiment/semivariances/\n",
      "Copy bratislava_experiment.txt -> ../experiments/bratislava_experiment/bratislava_experiment.txt\n"
     ]
    }
   ],
   "source": [
    "fn = \"bratislava_experiment.txt\"\n",
    "me.createProject(fn)"
   ]
  },
  {
   "cell_type": "code",
   "execution_count": null,
   "id": "777c156a-fd7d-458b-a326-63e866d823d0",
   "metadata": {},
   "outputs": [],
   "source": []
  },
  {
   "cell_type": "code",
   "execution_count": 37,
   "id": "f657be6b-bef1-48ab-86e3-ae435a437c06",
   "metadata": {},
   "outputs": [],
   "source": [
    "setup = me.readConfigFile(fn)"
   ]
  },
  {
   "cell_type": "code",
   "execution_count": 59,
   "id": "6f99b59d-6b42-4e4c-a4b6-17c3c0c01c8c",
   "metadata": {},
   "outputs": [
    {
     "name": "stdout",
     "output_type": "stream",
     "text": [
      "True\n"
     ]
    }
   ],
   "source": [
    "flat_means_decrease = bool(setup['flatness_means_decrease'])\n",
    "print(flat_means_decrease)"
   ]
  },
  {
   "cell_type": "code",
   "execution_count": 39,
   "id": "11f7149a-f0ec-44b7-96d8-4bcacf85e089",
   "metadata": {},
   "outputs": [],
   "source": [
    "#cargamos imagenes en luminance e importance\n",
    "\n",
    "ilumina = cfg.data + setup[\"folder_input\"] + setup[\"input_ntli\"]\n",
    "niveles = cfg.data + setup[\"folder_input\"] + setup[\"input_evm\"]\n",
    "\n",
    "img = ilumina\n",
    "im1 = np.array(Image.open(img))\n",
    "\n"
   ]
  },
  {
   "cell_type": "code",
   "execution_count": null,
   "id": "57cc40ae-505e-42c1-9d26-b9d06b365c82",
   "metadata": {},
   "outputs": [],
   "source": []
  },
  {
   "cell_type": "code",
   "execution_count": 40,
   "id": "61fed99b-e226-478d-9c85-b3d1b064d17a",
   "metadata": {},
   "outputs": [],
   "source": [
    "#NTLI: luminance\n",
    "NTLI = ps.readIMG(ilumina)\n",
    "\n",
    "#EAM: Environtmental attention map is the importance\n",
    "EAM = ps.readIMG(niveles, invert = True)\n",
    "\n",
    "th = int(setup[\"desaturation_th\"])"
   ]
  },
  {
   "cell_type": "code",
   "execution_count": 41,
   "id": "ac669b62-ccd7-4f07-972f-f03329aad5d5",
   "metadata": {},
   "outputs": [
    {
     "data": {
      "text/plain": [
       "'bratislava_prioridades_3'"
      ]
     },
     "execution_count": 41,
     "metadata": {},
     "output_type": "execute_result"
    }
   ],
   "source": [
    "setup[\"input_evm\"]"
   ]
  },
  {
   "cell_type": "code",
   "execution_count": 42,
   "id": "3c9c3288-c116-4d29-81e4-e50a71fae126",
   "metadata": {},
   "outputs": [
    {
     "data": {
      "text/plain": [
       "<matplotlib.image.AxesImage at 0x12d8f2dc0>"
      ]
     },
     "execution_count": 42,
     "metadata": {},
     "output_type": "execute_result"
    },
    {
     "data": {
      "image/png": "[encoded data removed]",
      "text/plain": [
       "<Figure size 640x480 with 1 Axes>"
      ]
     },
     "metadata": {},
     "output_type": "display_data"
    }
   ],
   "source": [
    "\n",
    "plt.imshow(NTLI)"
   ]
  },
  {
   "cell_type": "code",
   "execution_count": 43,
   "id": "ff7eb56d-8454-4e23-8285-c220fbf875e8",
   "metadata": {},
   "outputs": [],
   "source": [
    "EAM[EAM==255]=1.0"
   ]
  },
  {
   "cell_type": "code",
   "execution_count": 44,
   "id": "dfd1b6dc-4150-4c4d-b4ba-435527840920",
   "metadata": {},
   "outputs": [
    {
     "data": {
      "text/plain": [
       "array([0, 1], dtype=uint8)"
      ]
     },
     "execution_count": 44,
     "metadata": {},
     "output_type": "execute_result"
    },
    {
     "data": {
      "image/png": "[encoded data removed]",
      "text/plain": [
       "<Figure size 640x480 with 1 Axes>"
      ]
     },
     "metadata": {},
     "output_type": "display_data"
    }
   ],
   "source": [
    "plt.imshow(EAM)\n",
    "\n",
    "np.unique(EAM)"
   ]
  },
  {
   "cell_type": "code",
   "execution_count": 45,
   "id": "13b31402-edf6-4db3-a382-207974b9ce38",
   "metadata": {},
   "outputs": [],
   "source": [
    "#DNTLI, distance = ps.desaturate(NTLI, th = th)"
   ]
  },
  {
   "cell_type": "code",
   "execution_count": 46,
   "id": "4a570219-b97f-44af-b0e3-32bc186b6acf",
   "metadata": {},
   "outputs": [
    {
     "name": "stderr",
     "output_type": "stream",
     "text": [
      "/var/folders/k9/wpfgnz550_n_k3t9tg8scnlw0000gn/T/ipykernel_46690/2212380294.py:6: DeprecationWarning: Please use `gaussian_filter` from the `scipy.ndimage` namespace, the `scipy.ndimage.filters` namespace is deprecated.\n",
      "  FDNTLI = sp.ndimage.filters.gaussian_filter(NTLI,\n"
     ]
    }
   ],
   "source": [
    "#smoothing parameters\n",
    "sigma_y = setup['filterg_sy']\n",
    "sigma_x =setup['filterg_sx']\n",
    "sigma = [sigma_y, sigma_x]\n",
    "\n",
    "FDNTLI = sp.ndimage.filters.gaussian_filter(NTLI, \n",
    "                                            sigma, \n",
    "                                            mode = setup['gaussian_mode'])\n",
    "\n",
    "\n",
    "#we filter only the values greater than 22\n",
    "FDNTLI = (FDNTLI>=setup['neglect_values'])*FDNTLI\n",
    "\n",
    "nonsatc = np.copy(FDNTLI)\n",
    "\n",
    "#\n",
    "#nonsatc[si] = 0\n",
    "#plt.imshow(nonsatc)\n",
    "#plt.show()"
   ]
  },
  {
   "cell_type": "code",
   "execution_count": 47,
   "id": "9e7f6807-4359-4ca3-b222-7b8f54685cee",
   "metadata": {},
   "outputs": [
    {
     "data": {
      "text/plain": [
       "<matplotlib.image.AxesImage at 0x12d9dc460>"
      ]
     },
     "execution_count": 47,
     "metadata": {},
     "output_type": "execute_result"
    },
    {
     "data": {
      "image/png": "[encoded data removed]",
      "text/plain": [
       "<Figure size 640x480 with 1 Axes>"
      ]
     },
     "metadata": {},
     "output_type": "display_data"
    }
   ],
   "source": [
    "plt.imshow(FDNTLI)"
   ]
  },
  {
   "cell_type": "code",
   "execution_count": 50,
   "id": "c2c712f7-7ed8-4e52-a280-ea706918946d",
   "metadata": {},
   "outputs": [
    {
     "data": {
      "text/plain": [
       "<matplotlib.image.AxesImage at 0x12da62400>"
      ]
     },
     "execution_count": 50,
     "metadata": {},
     "output_type": "execute_result"
    },
    {
     "data": {
      "image/png": "[encoded data removed]",
      "text/plain": [
       "<Figure size 640x480 with 1 Axes>"
      ]
     },
     "metadata": {},
     "output_type": "display_data"
    }
   ],
   "source": [
    "si = (58, 28)\n",
    "\n",
    "FDNTLI_bratislava = np.copy(FDNTLI)\n",
    "FDNTLI_bratislava[si]=np.max(FDNTLI_bratislava)\n",
    "\n",
    "plt.imshow(FDNTLI_bratislava)\n"
   ]
  },
  {
   "cell_type": "code",
   "execution_count": 49,
   "id": "1ea474b8-21d7-446d-b4d1-5da773ea2b30",
   "metadata": {},
   "outputs": [
    {
     "data": {
      "text/plain": [
       "[<matplotlib.lines.Line2D at 0x12da1e310>]"
      ]
     },
     "execution_count": 49,
     "metadata": {},
     "output_type": "execute_result"
    },
    {
     "data": {
      "image/png": "[encoded data removed]",
      "text/plain": [
       "<Figure size 640x480 with 1 Axes>"
      ]
     },
     "metadata": {},
     "output_type": "display_data"
    }
   ],
   "source": [
    "r = 20\n",
    "#plt.plot(NTLI[si[0],si[1]-r:si[1]+r+1])\n",
    "plt.plot(NTLI[si[0], si[1] - r:si[1] + r + 1])\n",
    "plt.plot(FDNTLI[si[0], si[1] - r:si[1] + r + 1])\n",
    "#plt.vlines(si[1],0,np.max(nonsat2[si[0],:]))\n"
   ]
  },
  {
   "cell_type": "code",
   "execution_count": 18,
   "id": "ac29b399-f62c-4165-9165-783d33c54a75",
   "metadata": {},
   "outputs": [
    {
     "data": {
      "text/plain": [
       "<matplotlib.image.AxesImage at 0x1565f1640>"
      ]
     },
     "execution_count": 18,
     "metadata": {},
     "output_type": "execute_result"
    },
    {
     "data": {
      "image/png": "[encoded data removed]",
      "text/plain": [
       "<Figure size 640x480 with 1 Axes>"
      ]
     },
     "metadata": {},
     "output_type": "display_data"
    }
   ],
   "source": [
    "plt.imshow(EAM)"
   ]
  },
  {
   "cell_type": "code",
   "execution_count": 51,
   "id": "5be1ed95-aae1-4101-9581-d59dda7cb057",
   "metadata": {},
   "outputs": [],
   "source": [
    "EAM = EAM.astype(float)"
   ]
  },
  {
   "cell_type": "code",
   "execution_count": null,
   "id": "130e8c81-f381-4055-8e0a-82addcb81293",
   "metadata": {},
   "outputs": [],
   "source": []
  },
  {
   "cell_type": "code",
   "execution_count": null,
   "id": "50d881d3-13cb-4cee-8098-5ffb20d4afb3",
   "metadata": {},
   "outputs": [],
   "source": []
  },
  {
   "cell_type": "code",
   "execution_count": null,
   "id": "7271007d-0ed6-466d-bfa4-b94595051806",
   "metadata": {},
   "outputs": [],
   "source": []
  },
  {
   "cell_type": "code",
   "execution_count": null,
   "id": "7a8e69c9-b7e9-4dc7-8205-138f70b59239",
   "metadata": {},
   "outputs": [],
   "source": []
  },
  {
   "cell_type": "code",
   "execution_count": null,
   "id": "637ccbb0-2dba-487b-8dd6-877baa62a998",
   "metadata": {},
   "outputs": [],
   "source": []
  },
  {
   "cell_type": "code",
   "execution_count": 52,
   "id": "27e8af02-e135-46d5-b3d8-72555b705364",
   "metadata": {},
   "outputs": [],
   "source": [
    "\n",
    "\n",
    "coords = ps.get_coords(FDNTLI>0)\n",
    "\n",
    "#fill the required params\n",
    "#si = (28,19)\n",
    "\n",
    "params = {\"type\": \"semivar\", \n",
    "          \"atol\": setup[\"tolerance_angle\"], \n",
    "          \"dtol\": setup[\"tolerance_distance\"]}\n",
    "\n",
    "\n",
    "sv = np.zeros(FDNTLI.shape)\n",
    "\n",
    "#tell to the class, which object is going to be used to make the semivariogram\n",
    "\n",
    "rG = rg.rGrowing(FDNTLI)\n",
    "\n",
    "rG.setParams(params)\n",
    "\n",
    "n = len(coords)\n",
    "\n",
    "#ncords x imagesize m x n\n",
    "image_size = (n, FDNTLI.shape[0]*FDNTLI.shape[1])\n",
    "allsemivariances = np.zeros(image_size)\n",
    "allmask = np.zeros(image_size)\n",
    "\n",
    "\n",
    "df = pd.DataFrame()\n",
    "\n"
   ]
  },
  {
   "cell_type": "code",
   "execution_count": 55,
   "id": "832affc6-aada-4bc7-9474-3d820eb5a170",
   "metadata": {},
   "outputs": [],
   "source": []
  },
  {
   "cell_type": "code",
   "execution_count": 84,
   "id": "427aff1f-1b6e-4172-969f-9572906b33da",
   "metadata": {},
   "outputs": [
    {
     "data": {
      "text/plain": [
       "<matplotlib.image.AxesImage at 0x13c3b4eb0>"
      ]
     },
     "execution_count": 84,
     "metadata": {},
     "output_type": "execute_result"
    },
    {
     "data": {
      "image/png": "[encoded data removed]",
      "text/plain": [
       "<Figure size 640x480 with 1 Axes>"
      ]
     },
     "metadata": {},
     "output_type": "display_data"
    }
   ],
   "source": [
    "sv = rG.makeSemivarianceMap(si)\n",
    "plt.imshow(sv)"
   ]
  },
  {
   "cell_type": "code",
   "execution_count": 85,
   "id": "22d62100-fd9d-464b-b7e5-2c8398c5f863",
   "metadata": {},
   "outputs": [],
   "source": [
    "svc = np.copy(sv)\n",
    "\n",
    "svc[si] = np.max(svc)"
   ]
  },
  {
   "cell_type": "code",
   "execution_count": 86,
   "id": "2b5ad35f-19e5-40ce-87d6-e028471dae73",
   "metadata": {},
   "outputs": [
    {
     "data": {
      "text/plain": [
       "<matplotlib.image.AxesImage at 0x13c440ca0>"
      ]
     },
     "execution_count": 86,
     "metadata": {},
     "output_type": "execute_result"
    },
    {
     "data": {
      "image/png": "[encoded data removed]",
      "text/plain": [
       "<Figure size 640x480 with 1 Axes>"
      ]
     },
     "metadata": {},
     "output_type": "display_data"
    }
   ],
   "source": [
    "plt.imshow(svc)"
   ]
  },
  {
   "cell_type": "code",
   "execution_count": 57,
   "id": "39fa5fc1-7cf6-4e71-b308-09074581928d",
   "metadata": {},
   "outputs": [],
   "source": [
    "svf = sv.flatten()"
   ]
  },
  {
   "cell_type": "code",
   "execution_count": 61,
   "id": "6e14542a-4ec8-43f2-bbbf-f4f82f0608e5",
   "metadata": {},
   "outputs": [
    {
     "data": {
      "text/plain": [
       "(58, 28)"
      ]
     },
     "execution_count": 61,
     "metadata": {},
     "output_type": "execute_result"
    }
   ],
   "source": [
    "si"
   ]
  },
  {
   "cell_type": "code",
   "execution_count": 60,
   "id": "356858e3-e448-4cb4-b291-c2d8fea9a4cb",
   "metadata": {},
   "outputs": [
    {
     "ename": "IndexError",
     "evalue": "tuple index out of range",
     "output_type": "error",
     "traceback": [
      "\u001b[0;31m---------------------------------------------------------------------------\u001b[0m",
      "\u001b[0;31mIndexError\u001b[0m                                Traceback (most recent call last)",
      "Cell \u001b[0;32mIn[60], line 1\u001b[0m\n\u001b[0;32m----> 1\u001b[0m \u001b[43mps\u001b[49m\u001b[38;5;241;43m.\u001b[39;49m\u001b[43mconstructMask\u001b[49m\u001b[43m(\u001b[49m\u001b[43msi\u001b[49m\u001b[43m,\u001b[49m\u001b[43m \u001b[49m\u001b[43msvf\u001b[49m\u001b[43m,\u001b[49m\u001b[43m \u001b[49m\u001b[43mflat_means_decrease\u001b[49m\u001b[43m)\u001b[49m\u001b[38;5;241m.\u001b[39mflatten()\n",
      "File \u001b[0;32m~/Documents/SourcesCodes/GitHub/reproduce_optimization_sensor_locations_results/notebooks/../src/positioning_sensors.py:639\u001b[0m, in \u001b[0;36mconstructMask\u001b[0;34m(si, img, flatMeansDecrease)\u001b[0m\n\u001b[1;32m    635\u001b[0m sv \u001b[38;5;241m=\u001b[39m np\u001b[38;5;241m.\u001b[39mzeros(img\u001b[38;5;241m.\u001b[39mshape)\n\u001b[1;32m    637\u001b[0m msk \u001b[38;5;241m=\u001b[39m np\u001b[38;5;241m.\u001b[39mzeros(img\u001b[38;5;241m.\u001b[39mshape)\n\u001b[0;32m--> 639\u001b[0m corner \u001b[38;5;241m=\u001b[39m \u001b[43mperimeter\u001b[49m\u001b[43m(\u001b[49m\u001b[43mimg\u001b[49m\u001b[43m)\u001b[49m\n\u001b[1;32m    641\u001b[0m \u001b[38;5;28;01mfor\u001b[39;00m x \u001b[38;5;129;01min\u001b[39;00m corner:\n\u001b[1;32m    643\u001b[0m     rr, cc \u001b[38;5;241m=\u001b[39m line(si[\u001b[38;5;241m0\u001b[39m], si[\u001b[38;5;241m1\u001b[39m], x[\u001b[38;5;241m0\u001b[39m], x[\u001b[38;5;241m1\u001b[39m])\n",
      "File \u001b[0;32m~/Documents/SourcesCodes/GitHub/reproduce_optimization_sensor_locations_results/notebooks/../src/positioning_sensors.py:568\u001b[0m, in \u001b[0;36mperimeter\u001b[0;34m(img)\u001b[0m\n\u001b[1;32m    563\u001b[0m \u001b[38;5;250m\u001b[39m\u001b[38;5;124;03m'''\u001b[39;00m\n\u001b[1;32m    564\u001b[0m \u001b[38;5;124;03m\u001b[39;00m\n\u001b[1;32m    565\u001b[0m \u001b[38;5;124;03m'''\u001b[39;00m\n\u001b[1;32m    566\u001b[0m perimeter \u001b[38;5;241m=\u001b[39m \u001b[38;5;28mlist\u001b[39m([])\n\u001b[0;32m--> 568\u001b[0m \u001b[38;5;28;01mfor\u001b[39;00m i \u001b[38;5;129;01min\u001b[39;00m \u001b[38;5;28mrange\u001b[39m(\u001b[38;5;241m0\u001b[39m, \u001b[43mimg\u001b[49m\u001b[38;5;241;43m.\u001b[39;49m\u001b[43mshape\u001b[49m\u001b[43m[\u001b[49m\u001b[38;5;241;43m1\u001b[39;49m\u001b[43m]\u001b[49m):\n\u001b[1;32m    569\u001b[0m     perimeter\u001b[38;5;241m.\u001b[39mappend((\u001b[38;5;241m0\u001b[39m, i))\n\u001b[1;32m    571\u001b[0m \u001b[38;5;28;01mfor\u001b[39;00m i \u001b[38;5;129;01min\u001b[39;00m \u001b[38;5;28mrange\u001b[39m(\u001b[38;5;241m0\u001b[39m, img\u001b[38;5;241m.\u001b[39mshape[\u001b[38;5;241m1\u001b[39m]):\n\u001b[1;32m    572\u001b[0m    \u001b[38;5;66;03m# perimeter.append((img.shape[1]-1, i))\u001b[39;00m\n",
      "\u001b[0;31mIndexError\u001b[0m: tuple index out of range"
     ]
    }
   ],
   "source": [
    "ps.constructMask(si, svf, flat_means_decrease).flatten()"
   ]
  },
  {
   "cell_type": "code",
   "execution_count": 67,
   "id": "e11c0986-aa77-494e-8186-a0ced74275f2",
   "metadata": {},
   "outputs": [
    {
     "data": {
      "text/plain": [
       "(43, 51)"
      ]
     },
     "execution_count": 67,
     "metadata": {},
     "output_type": "execute_result"
    }
   ],
   "source": [
    "si"
   ]
  },
  {
   "cell_type": "code",
   "execution_count": 63,
   "id": "533452b0-e7ac-40c8-87e9-693618cfef18",
   "metadata": {},
   "outputs": [
    {
     "data": {
      "text/plain": [
       "<matplotlib.image.AxesImage at 0x12f866340>"
      ]
     },
     "execution_count": 63,
     "metadata": {},
     "output_type": "execute_result"
    },
    {
     "data": {
      "image/png": "[encoded data removed]",
      "text/plain": [
       "<Figure size 640x480 with 1 Axes>"
      ]
     },
     "metadata": {},
     "output_type": "display_data"
    }
   ],
   "source": [
    "plt.imshow(sv)"
   ]
  },
  {
   "cell_type": "code",
   "execution_count": 64,
   "id": "99946603-7d05-461d-8848-d5198d40ff4b",
   "metadata": {},
   "outputs": [
    {
     "data": {
      "text/plain": [
       "569"
      ]
     },
     "execution_count": 64,
     "metadata": {},
     "output_type": "execute_result"
    }
   ],
   "source": [
    "len(coords)"
   ]
  },
  {
   "cell_type": "code",
   "execution_count": 65,
   "id": "60c51328-6a01-41ec-9e8f-26ed8d2c0842",
   "metadata": {},
   "outputs": [
    {
     "data": {
      "text/plain": [
       "6396"
      ]
     },
     "execution_count": 65,
     "metadata": {},
     "output_type": "execute_result"
    }
   ],
   "source": [
    "sv.shape[0]*sv.shape[1]"
   ]
  },
  {
   "cell_type": "code",
   "execution_count": 68,
   "id": "bc900704-4847-4ff1-9fbf-425430bbc0bc",
   "metadata": {},
   "outputs": [],
   "source": [
    "si = (58, 28)"
   ]
  },
  {
   "cell_type": "code",
   "execution_count": 69,
   "id": "3bea54dc-acb0-4dbb-a6a2-b43bb4bbbac6",
   "metadata": {},
   "outputs": [
    {
     "name": "stdout",
     "output_type": "stream",
     "text": [
      " 0.53%\n"
     ]
    }
   ],
   "source": [
    "print(\"coords:\", si)\n",
    "    \n",
    "clear_output(wait = True)\n",
    "s = \"{percen: 1.2f}%\"\n",
    "print(s.format(percen = 100*(i + 1)/n))\n",
    "    \n",
    "si = tuple(si)\n",
    "\n",
    "#generate a semivariance sv map\n",
    "sv = rG.makeSemivarianceMap(si)\n",
    "    \n",
    "#flattne sv to store it in a dataframe\n",
    "semivar_brat = sv.flatten()\n",
    "    \n",
    "#construct a mask of sv and then flatten it\n",
    "semivar_brat_mask = ps.constructMask(si, sv, flat_means_decrease).flatten()"
   ]
  },
  {
   "cell_type": "code",
   "execution_count": 71,
   "id": "9d829d3f-25df-4f47-bfed-039fa751dfae",
   "metadata": {},
   "outputs": [
    {
     "ename": "TypeError",
     "evalue": "Invalid shape (6396,) for image data",
     "output_type": "error",
     "traceback": [
      "\u001b[0;31m---------------------------------------------------------------------------\u001b[0m",
      "\u001b[0;31mTypeError\u001b[0m                                 Traceback (most recent call last)",
      "Cell \u001b[0;32mIn[71], line 1\u001b[0m\n\u001b[0;32m----> 1\u001b[0m \u001b[43mplt\u001b[49m\u001b[38;5;241;43m.\u001b[39;49m\u001b[43mimshow\u001b[49m\u001b[43m(\u001b[49m\u001b[43msemivar_brat_mask\u001b[49m\u001b[43m)\u001b[49m\n",
      "File \u001b[0;32m~/anaconda3/envs/ML/lib/python3.9/site-packages/matplotlib/pyplot.py:2695\u001b[0m, in \u001b[0;36mimshow\u001b[0;34m(X, cmap, norm, aspect, interpolation, alpha, vmin, vmax, origin, extent, interpolation_stage, filternorm, filterrad, resample, url, data, **kwargs)\u001b[0m\n\u001b[1;32m   2689\u001b[0m \u001b[38;5;129m@_copy_docstring_and_deprecators\u001b[39m(Axes\u001b[38;5;241m.\u001b[39mimshow)\n\u001b[1;32m   2690\u001b[0m \u001b[38;5;28;01mdef\u001b[39;00m \u001b[38;5;21mimshow\u001b[39m(\n\u001b[1;32m   2691\u001b[0m         X, cmap\u001b[38;5;241m=\u001b[39m\u001b[38;5;28;01mNone\u001b[39;00m, norm\u001b[38;5;241m=\u001b[39m\u001b[38;5;28;01mNone\u001b[39;00m, \u001b[38;5;241m*\u001b[39m, aspect\u001b[38;5;241m=\u001b[39m\u001b[38;5;28;01mNone\u001b[39;00m, interpolation\u001b[38;5;241m=\u001b[39m\u001b[38;5;28;01mNone\u001b[39;00m,\n\u001b[1;32m   2692\u001b[0m         alpha\u001b[38;5;241m=\u001b[39m\u001b[38;5;28;01mNone\u001b[39;00m, vmin\u001b[38;5;241m=\u001b[39m\u001b[38;5;28;01mNone\u001b[39;00m, vmax\u001b[38;5;241m=\u001b[39m\u001b[38;5;28;01mNone\u001b[39;00m, origin\u001b[38;5;241m=\u001b[39m\u001b[38;5;28;01mNone\u001b[39;00m, extent\u001b[38;5;241m=\u001b[39m\u001b[38;5;28;01mNone\u001b[39;00m,\n\u001b[1;32m   2693\u001b[0m         interpolation_stage\u001b[38;5;241m=\u001b[39m\u001b[38;5;28;01mNone\u001b[39;00m, filternorm\u001b[38;5;241m=\u001b[39m\u001b[38;5;28;01mTrue\u001b[39;00m, filterrad\u001b[38;5;241m=\u001b[39m\u001b[38;5;241m4.0\u001b[39m,\n\u001b[1;32m   2694\u001b[0m         resample\u001b[38;5;241m=\u001b[39m\u001b[38;5;28;01mNone\u001b[39;00m, url\u001b[38;5;241m=\u001b[39m\u001b[38;5;28;01mNone\u001b[39;00m, data\u001b[38;5;241m=\u001b[39m\u001b[38;5;28;01mNone\u001b[39;00m, \u001b[38;5;241m*\u001b[39m\u001b[38;5;241m*\u001b[39mkwargs):\n\u001b[0;32m-> 2695\u001b[0m     __ret \u001b[38;5;241m=\u001b[39m \u001b[43mgca\u001b[49m\u001b[43m(\u001b[49m\u001b[43m)\u001b[49m\u001b[38;5;241;43m.\u001b[39;49m\u001b[43mimshow\u001b[49m\u001b[43m(\u001b[49m\n\u001b[1;32m   2696\u001b[0m \u001b[43m        \u001b[49m\u001b[43mX\u001b[49m\u001b[43m,\u001b[49m\u001b[43m \u001b[49m\u001b[43mcmap\u001b[49m\u001b[38;5;241;43m=\u001b[39;49m\u001b[43mcmap\u001b[49m\u001b[43m,\u001b[49m\u001b[43m \u001b[49m\u001b[43mnorm\u001b[49m\u001b[38;5;241;43m=\u001b[39;49m\u001b[43mnorm\u001b[49m\u001b[43m,\u001b[49m\u001b[43m \u001b[49m\u001b[43maspect\u001b[49m\u001b[38;5;241;43m=\u001b[39;49m\u001b[43maspect\u001b[49m\u001b[43m,\u001b[49m\n\u001b[1;32m   2697\u001b[0m \u001b[43m        \u001b[49m\u001b[43minterpolation\u001b[49m\u001b[38;5;241;43m=\u001b[39;49m\u001b[43minterpolation\u001b[49m\u001b[43m,\u001b[49m\u001b[43m \u001b[49m\u001b[43malpha\u001b[49m\u001b[38;5;241;43m=\u001b[39;49m\u001b[43malpha\u001b[49m\u001b[43m,\u001b[49m\u001b[43m \u001b[49m\u001b[43mvmin\u001b[49m\u001b[38;5;241;43m=\u001b[39;49m\u001b[43mvmin\u001b[49m\u001b[43m,\u001b[49m\n\u001b[1;32m   2698\u001b[0m \u001b[43m        \u001b[49m\u001b[43mvmax\u001b[49m\u001b[38;5;241;43m=\u001b[39;49m\u001b[43mvmax\u001b[49m\u001b[43m,\u001b[49m\u001b[43m \u001b[49m\u001b[43morigin\u001b[49m\u001b[38;5;241;43m=\u001b[39;49m\u001b[43morigin\u001b[49m\u001b[43m,\u001b[49m\u001b[43m \u001b[49m\u001b[43mextent\u001b[49m\u001b[38;5;241;43m=\u001b[39;49m\u001b[43mextent\u001b[49m\u001b[43m,\u001b[49m\n\u001b[1;32m   2699\u001b[0m \u001b[43m        \u001b[49m\u001b[43minterpolation_stage\u001b[49m\u001b[38;5;241;43m=\u001b[39;49m\u001b[43minterpolation_stage\u001b[49m\u001b[43m,\u001b[49m\n\u001b[1;32m   2700\u001b[0m \u001b[43m        \u001b[49m\u001b[43mfilternorm\u001b[49m\u001b[38;5;241;43m=\u001b[39;49m\u001b[43mfilternorm\u001b[49m\u001b[43m,\u001b[49m\u001b[43m \u001b[49m\u001b[43mfilterrad\u001b[49m\u001b[38;5;241;43m=\u001b[39;49m\u001b[43mfilterrad\u001b[49m\u001b[43m,\u001b[49m\u001b[43m \u001b[49m\u001b[43mresample\u001b[49m\u001b[38;5;241;43m=\u001b[39;49m\u001b[43mresample\u001b[49m\u001b[43m,\u001b[49m\n\u001b[1;32m   2701\u001b[0m \u001b[43m        \u001b[49m\u001b[43murl\u001b[49m\u001b[38;5;241;43m=\u001b[39;49m\u001b[43murl\u001b[49m\u001b[43m,\u001b[49m\u001b[43m \u001b[49m\u001b[38;5;241;43m*\u001b[39;49m\u001b[38;5;241;43m*\u001b[39;49m\u001b[43m(\u001b[49m\u001b[43m{\u001b[49m\u001b[38;5;124;43m\"\u001b[39;49m\u001b[38;5;124;43mdata\u001b[39;49m\u001b[38;5;124;43m\"\u001b[39;49m\u001b[43m:\u001b[49m\u001b[43m \u001b[49m\u001b[43mdata\u001b[49m\u001b[43m}\u001b[49m\u001b[43m \u001b[49m\u001b[38;5;28;43;01mif\u001b[39;49;00m\u001b[43m \u001b[49m\u001b[43mdata\u001b[49m\u001b[43m \u001b[49m\u001b[38;5;129;43;01mis\u001b[39;49;00m\u001b[43m \u001b[49m\u001b[38;5;129;43;01mnot\u001b[39;49;00m\u001b[43m \u001b[49m\u001b[38;5;28;43;01mNone\u001b[39;49;00m\u001b[43m \u001b[49m\u001b[38;5;28;43;01melse\u001b[39;49;00m\u001b[43m \u001b[49m\u001b[43m{\u001b[49m\u001b[43m}\u001b[49m\u001b[43m)\u001b[49m\u001b[43m,\u001b[49m\n\u001b[1;32m   2702\u001b[0m \u001b[43m        \u001b[49m\u001b[38;5;241;43m*\u001b[39;49m\u001b[38;5;241;43m*\u001b[39;49m\u001b[43mkwargs\u001b[49m\u001b[43m)\u001b[49m\n\u001b[1;32m   2703\u001b[0m     sci(__ret)\n\u001b[1;32m   2704\u001b[0m     \u001b[38;5;28;01mreturn\u001b[39;00m __ret\n",
      "File \u001b[0;32m~/anaconda3/envs/ML/lib/python3.9/site-packages/matplotlib/__init__.py:1442\u001b[0m, in \u001b[0;36m_preprocess_data.<locals>.inner\u001b[0;34m(ax, data, *args, **kwargs)\u001b[0m\n\u001b[1;32m   1439\u001b[0m \u001b[38;5;129m@functools\u001b[39m\u001b[38;5;241m.\u001b[39mwraps(func)\n\u001b[1;32m   1440\u001b[0m \u001b[38;5;28;01mdef\u001b[39;00m \u001b[38;5;21minner\u001b[39m(ax, \u001b[38;5;241m*\u001b[39margs, data\u001b[38;5;241m=\u001b[39m\u001b[38;5;28;01mNone\u001b[39;00m, \u001b[38;5;241m*\u001b[39m\u001b[38;5;241m*\u001b[39mkwargs):\n\u001b[1;32m   1441\u001b[0m     \u001b[38;5;28;01mif\u001b[39;00m data \u001b[38;5;129;01mis\u001b[39;00m \u001b[38;5;28;01mNone\u001b[39;00m:\n\u001b[0;32m-> 1442\u001b[0m         \u001b[38;5;28;01mreturn\u001b[39;00m \u001b[43mfunc\u001b[49m\u001b[43m(\u001b[49m\u001b[43max\u001b[49m\u001b[43m,\u001b[49m\u001b[43m \u001b[49m\u001b[38;5;241;43m*\u001b[39;49m\u001b[38;5;28;43mmap\u001b[39;49m\u001b[43m(\u001b[49m\u001b[43msanitize_sequence\u001b[49m\u001b[43m,\u001b[49m\u001b[43m \u001b[49m\u001b[43margs\u001b[49m\u001b[43m)\u001b[49m\u001b[43m,\u001b[49m\u001b[43m \u001b[49m\u001b[38;5;241;43m*\u001b[39;49m\u001b[38;5;241;43m*\u001b[39;49m\u001b[43mkwargs\u001b[49m\u001b[43m)\u001b[49m\n\u001b[1;32m   1444\u001b[0m     bound \u001b[38;5;241m=\u001b[39m new_sig\u001b[38;5;241m.\u001b[39mbind(ax, \u001b[38;5;241m*\u001b[39margs, \u001b[38;5;241m*\u001b[39m\u001b[38;5;241m*\u001b[39mkwargs)\n\u001b[1;32m   1445\u001b[0m     auto_label \u001b[38;5;241m=\u001b[39m (bound\u001b[38;5;241m.\u001b[39marguments\u001b[38;5;241m.\u001b[39mget(label_namer)\n\u001b[1;32m   1446\u001b[0m                   \u001b[38;5;129;01mor\u001b[39;00m bound\u001b[38;5;241m.\u001b[39mkwargs\u001b[38;5;241m.\u001b[39mget(label_namer))\n",
      "File \u001b[0;32m~/anaconda3/envs/ML/lib/python3.9/site-packages/matplotlib/axes/_axes.py:5665\u001b[0m, in \u001b[0;36mAxes.imshow\u001b[0;34m(self, X, cmap, norm, aspect, interpolation, alpha, vmin, vmax, origin, extent, interpolation_stage, filternorm, filterrad, resample, url, **kwargs)\u001b[0m\n\u001b[1;32m   5657\u001b[0m \u001b[38;5;28mself\u001b[39m\u001b[38;5;241m.\u001b[39mset_aspect(aspect)\n\u001b[1;32m   5658\u001b[0m im \u001b[38;5;241m=\u001b[39m mimage\u001b[38;5;241m.\u001b[39mAxesImage(\u001b[38;5;28mself\u001b[39m, cmap\u001b[38;5;241m=\u001b[39mcmap, norm\u001b[38;5;241m=\u001b[39mnorm,\n\u001b[1;32m   5659\u001b[0m                       interpolation\u001b[38;5;241m=\u001b[39minterpolation, origin\u001b[38;5;241m=\u001b[39morigin,\n\u001b[1;32m   5660\u001b[0m                       extent\u001b[38;5;241m=\u001b[39mextent, filternorm\u001b[38;5;241m=\u001b[39mfilternorm,\n\u001b[1;32m   5661\u001b[0m                       filterrad\u001b[38;5;241m=\u001b[39mfilterrad, resample\u001b[38;5;241m=\u001b[39mresample,\n\u001b[1;32m   5662\u001b[0m                       interpolation_stage\u001b[38;5;241m=\u001b[39minterpolation_stage,\n\u001b[1;32m   5663\u001b[0m                       \u001b[38;5;241m*\u001b[39m\u001b[38;5;241m*\u001b[39mkwargs)\n\u001b[0;32m-> 5665\u001b[0m \u001b[43mim\u001b[49m\u001b[38;5;241;43m.\u001b[39;49m\u001b[43mset_data\u001b[49m\u001b[43m(\u001b[49m\u001b[43mX\u001b[49m\u001b[43m)\u001b[49m\n\u001b[1;32m   5666\u001b[0m im\u001b[38;5;241m.\u001b[39mset_alpha(alpha)\n\u001b[1;32m   5667\u001b[0m \u001b[38;5;28;01mif\u001b[39;00m im\u001b[38;5;241m.\u001b[39mget_clip_path() \u001b[38;5;129;01mis\u001b[39;00m \u001b[38;5;28;01mNone\u001b[39;00m:\n\u001b[1;32m   5668\u001b[0m     \u001b[38;5;66;03m# image does not already have clipping set, clip to axes patch\u001b[39;00m\n",
      "File \u001b[0;32m~/anaconda3/envs/ML/lib/python3.9/site-packages/matplotlib/image.py:710\u001b[0m, in \u001b[0;36m_ImageBase.set_data\u001b[0;34m(self, A)\u001b[0m\n\u001b[1;32m    706\u001b[0m     \u001b[38;5;28mself\u001b[39m\u001b[38;5;241m.\u001b[39m_A \u001b[38;5;241m=\u001b[39m \u001b[38;5;28mself\u001b[39m\u001b[38;5;241m.\u001b[39m_A[:, :, \u001b[38;5;241m0\u001b[39m]\n\u001b[1;32m    708\u001b[0m \u001b[38;5;28;01mif\u001b[39;00m \u001b[38;5;129;01mnot\u001b[39;00m (\u001b[38;5;28mself\u001b[39m\u001b[38;5;241m.\u001b[39m_A\u001b[38;5;241m.\u001b[39mndim \u001b[38;5;241m==\u001b[39m \u001b[38;5;241m2\u001b[39m\n\u001b[1;32m    709\u001b[0m         \u001b[38;5;129;01mor\u001b[39;00m \u001b[38;5;28mself\u001b[39m\u001b[38;5;241m.\u001b[39m_A\u001b[38;5;241m.\u001b[39mndim \u001b[38;5;241m==\u001b[39m \u001b[38;5;241m3\u001b[39m \u001b[38;5;129;01mand\u001b[39;00m \u001b[38;5;28mself\u001b[39m\u001b[38;5;241m.\u001b[39m_A\u001b[38;5;241m.\u001b[39mshape[\u001b[38;5;241m-\u001b[39m\u001b[38;5;241m1\u001b[39m] \u001b[38;5;129;01min\u001b[39;00m [\u001b[38;5;241m3\u001b[39m, \u001b[38;5;241m4\u001b[39m]):\n\u001b[0;32m--> 710\u001b[0m     \u001b[38;5;28;01mraise\u001b[39;00m \u001b[38;5;167;01mTypeError\u001b[39;00m(\u001b[38;5;124m\"\u001b[39m\u001b[38;5;124mInvalid shape \u001b[39m\u001b[38;5;132;01m{}\u001b[39;00m\u001b[38;5;124m for image data\u001b[39m\u001b[38;5;124m\"\u001b[39m\n\u001b[1;32m    711\u001b[0m                     \u001b[38;5;241m.\u001b[39mformat(\u001b[38;5;28mself\u001b[39m\u001b[38;5;241m.\u001b[39m_A\u001b[38;5;241m.\u001b[39mshape))\n\u001b[1;32m    713\u001b[0m \u001b[38;5;28;01mif\u001b[39;00m \u001b[38;5;28mself\u001b[39m\u001b[38;5;241m.\u001b[39m_A\u001b[38;5;241m.\u001b[39mndim \u001b[38;5;241m==\u001b[39m \u001b[38;5;241m3\u001b[39m:\n\u001b[1;32m    714\u001b[0m     \u001b[38;5;66;03m# If the input data has values outside the valid range (after\u001b[39;00m\n\u001b[1;32m    715\u001b[0m     \u001b[38;5;66;03m# normalisation), we issue a warning and then clip X to the bounds\u001b[39;00m\n\u001b[1;32m    716\u001b[0m     \u001b[38;5;66;03m# - otherwise casting wraps extreme values, hiding outliers and\u001b[39;00m\n\u001b[1;32m    717\u001b[0m     \u001b[38;5;66;03m# making reliable interpretation impossible.\u001b[39;00m\n\u001b[1;32m    718\u001b[0m     high \u001b[38;5;241m=\u001b[39m \u001b[38;5;241m255\u001b[39m \u001b[38;5;28;01mif\u001b[39;00m np\u001b[38;5;241m.\u001b[39missubdtype(\u001b[38;5;28mself\u001b[39m\u001b[38;5;241m.\u001b[39m_A\u001b[38;5;241m.\u001b[39mdtype, np\u001b[38;5;241m.\u001b[39minteger) \u001b[38;5;28;01melse\u001b[39;00m \u001b[38;5;241m1\u001b[39m\n",
      "\u001b[0;31mTypeError\u001b[0m: Invalid shape (6396,) for image data"
     ]
    },
    {
     "data": {
      "image/png": "[encoded data removed]",
      "text/plain": [
       "<Figure size 640x480 with 1 Axes>"
      ]
     },
     "metadata": {},
     "output_type": "display_data"
    }
   ],
   "source": [
    "plt.imshow(semivar_brat_mask)"
   ]
  },
  {
   "cell_type": "code",
   "execution_count": 66,
   "id": "a68848d7-e1b8-4d33-a04c-732004f950fa",
   "metadata": {},
   "outputs": [
    {
     "name": "stdout",
     "output_type": "stream",
     "text": [
      " 0.53%\n"
     ]
    },
    {
     "ename": "KeyboardInterrupt",
     "evalue": "",
     "output_type": "error",
     "traceback": [
      "\u001b[0;31m---------------------------------------------------------------------------\u001b[0m",
      "\u001b[0;31mKeyboardInterrupt\u001b[0m                         Traceback (most recent call last)",
      "Cell \u001b[0;32mIn[66], line 11\u001b[0m\n\u001b[1;32m      8\u001b[0m si \u001b[38;5;241m=\u001b[39m \u001b[38;5;28mtuple\u001b[39m(si)\n\u001b[1;32m     10\u001b[0m \u001b[38;5;66;03m#generate a semivariance sv map\u001b[39;00m\n\u001b[0;32m---> 11\u001b[0m sv \u001b[38;5;241m=\u001b[39m \u001b[43mrG\u001b[49m\u001b[38;5;241;43m.\u001b[39;49m\u001b[43mmakeSemivarianceMap\u001b[49m\u001b[43m(\u001b[49m\u001b[43msi\u001b[49m\u001b[43m)\u001b[49m\n\u001b[1;32m     13\u001b[0m \u001b[38;5;66;03m#flattne sv to store it in a dataframe\u001b[39;00m\n\u001b[1;32m     14\u001b[0m allsemivariances[i] \u001b[38;5;241m=\u001b[39m sv\u001b[38;5;241m.\u001b[39mflatten()\n",
      "File \u001b[0;32m~/Documents/SourcesCodes/GitHub/reproduce_optimization_sensor_locations_results/notebooks/../src/regionGrowing.py:188\u001b[0m, in \u001b[0;36mrGrowing.makeSemivarianceMap\u001b[0;34m(self, si)\u001b[0m\n\u001b[1;32m    186\u001b[0m         sj \u001b[38;5;241m=\u001b[39m (i,j)\n\u001b[1;32m    187\u001b[0m         seed \u001b[38;5;241m=\u001b[39m sj\n\u001b[0;32m--> 188\u001b[0m         set_ri \u001b[38;5;241m=\u001b[39m \u001b[38;5;28;43mself\u001b[39;49m\u001b[38;5;241;43m.\u001b[39;49m\u001b[43mgetRegion\u001b[49m\u001b[43m(\u001b[49m\u001b[43mseed\u001b[49m\u001b[43m)\u001b[49m\n\u001b[1;32m    189\u001b[0m         z[sj] \u001b[38;5;241m=\u001b[39m np\u001b[38;5;241m.\u001b[39mmean([(\u001b[38;5;28mself\u001b[39m\u001b[38;5;241m.\u001b[39mImg[\u001b[38;5;28mself\u001b[39m\u001b[38;5;241m.\u001b[39msi]\u001b[38;5;241m-\u001b[39m\u001b[38;5;28mself\u001b[39m\u001b[38;5;241m.\u001b[39mImg[c])\u001b[38;5;241m*\u001b[39m\u001b[38;5;241m*\u001b[39m\u001b[38;5;241m2\u001b[39m   \u001b[38;5;28;01mfor\u001b[39;00m c \u001b[38;5;129;01min\u001b[39;00m \u001b[38;5;28mself\u001b[39m\u001b[38;5;241m.\u001b[39mcoords])\u001b[38;5;241m/\u001b[39m\u001b[38;5;241m2\u001b[39m\n\u001b[1;32m    190\u001b[0m z[si] \u001b[38;5;241m=\u001b[39m \u001b[38;5;241m0\u001b[39m\n",
      "File \u001b[0;32m~/Documents/SourcesCodes/GitHub/reproduce_optimization_sensor_locations_results/notebooks/../src/regionGrowing.py:77\u001b[0m, in \u001b[0;36mrGrowing.getRegion\u001b[0;34m(self, sj)\u001b[0m\n\u001b[1;32m     72\u001b[0m     N\u001b[38;5;241m.\u001b[39mappend((y,x))\n\u001b[1;32m     75\u001b[0m \u001b[38;5;28;01mfor\u001b[39;00m n \u001b[38;5;129;01min\u001b[39;00m N:\n\u001b[0;32m---> 77\u001b[0m     \u001b[38;5;28;01mif\u001b[39;00m \u001b[38;5;28;43mself\u001b[39;49m\u001b[38;5;241;43m.\u001b[39;49m\u001b[43mstopCondition2\u001b[49m\u001b[43m(\u001b[49m\u001b[43mvisit\u001b[49m\u001b[43m,\u001b[49m\u001b[43mn\u001b[49m\u001b[43m)\u001b[49m:\n\u001b[1;32m     78\u001b[0m         visit[n] \u001b[38;5;241m=\u001b[39m \u001b[38;5;241m1\u001b[39m\n\u001b[1;32m     79\u001b[0m         \u001b[38;5;28mself\u001b[39m\u001b[38;5;241m.\u001b[39mcoords\u001b[38;5;241m.\u001b[39mappend(n)\n",
      "\u001b[0;31mKeyboardInterrupt\u001b[0m: "
     ]
    }
   ],
   "source": [
    "for i, si in enumerate(coords):\n",
    "    print(\"coords:\", si)\n",
    "    \n",
    "    clear_output(wait = True)\n",
    "    s = \"{percen: 1.2f}%\"\n",
    "    print(s.format(percen = 100*(i + 1)/n))\n",
    "    \n",
    "    si = tuple(si)\n",
    "\n",
    "    #generate a semivariance sv map\n",
    "    sv = rG.makeSemivarianceMap(si)\n",
    "    \n",
    "    #flattne sv to store it in a dataframe\n",
    "    allsemivariances[i] = sv.flatten()\n",
    "    \n",
    "    #construct a mask of sv and then flatten it\n",
    "    allmask[i] = ps.constructMask(si, sv, flat_means_decrease).flatten()"
   ]
  },
  {
   "cell_type": "code",
   "execution_count": 35,
   "id": "28057a1a-cf18-4030-a35c-641d499b301e",
   "metadata": {},
   "outputs": [],
   "source": [
    "svc = np.copy(sv)"
   ]
  },
  {
   "cell_type": "code",
   "execution_count": 36,
   "id": "dc75df9b-870c-4f66-ad88-e05748daf1f7",
   "metadata": {},
   "outputs": [],
   "source": [
    "svc[tuple(si)] = np.max(svc)"
   ]
  },
  {
   "cell_type": "code",
   "execution_count": 75,
   "id": "4b00e034-2ff2-4c3a-8a47-808779c0e2eb",
   "metadata": {},
   "outputs": [
    {
     "data": {
      "text/plain": [
       "<matplotlib.image.AxesImage at 0x13c0b55e0>"
      ]
     },
     "execution_count": 75,
     "metadata": {},
     "output_type": "execute_result"
    },
    {
     "data": {
      "image/png": "[encoded data removed]",
      "text/plain": [
       "<Figure size 640x480 with 1 Axes>"
      ]
     },
     "metadata": {},
     "output_type": "display_data"
    }
   ],
   "source": [
    "plt.imshow(sv)"
   ]
  },
  {
   "cell_type": "code",
   "execution_count": 72,
   "id": "020cef7f-3c83-4121-85c0-1d5eefa9d6c9",
   "metadata": {},
   "outputs": [],
   "source": [
    "maskf = ps.constructMask(si, sv, flat_means_decrease).flatten()"
   ]
  },
  {
   "cell_type": "code",
   "execution_count": 83,
   "id": "fffea3a8-e728-4497-b42f-3eb583b0bcca",
   "metadata": {},
   "outputs": [
    {
     "data": {
      "text/plain": [
       "<matplotlib.image.AxesImage at 0x13c336760>"
      ]
     },
     "execution_count": 83,
     "metadata": {},
     "output_type": "execute_result"
    },
    {
     "data": {
      "image/png": "[encoded data removed]",
      "text/plain": [
       "<Figure size 640x480 with 1 Axes>"
      ]
     },
     "metadata": {},
     "output_type": "display_data"
    }
   ],
   "source": [
    "plt.imshow(maskf.reshape(sv.shape)*FDNTLI_bratislava)"
   ]
  },
  {
   "cell_type": "code",
   "execution_count": 39,
   "id": "9e6e0dd8-120d-497f-b6af-1e42a6ddd64b",
   "metadata": {},
   "outputs": [],
   "source": [
    "P = ps.perimeter(sv)"
   ]
  },
  {
   "cell_type": "code",
   "execution_count": 40,
   "id": "18a9e534-c415-470f-8746-bd0d4d5354f1",
   "metadata": {},
   "outputs": [
    {
     "data": {
      "text/plain": [
       "(78, 82)"
      ]
     },
     "execution_count": 40,
     "metadata": {},
     "output_type": "execute_result"
    }
   ],
   "source": [
    "FDNTLI.shape"
   ]
  },
  {
   "cell_type": "code",
   "execution_count": 41,
   "id": "bd32a156-5fcb-44c7-b6ad-ba8b6eacdac3",
   "metadata": {},
   "outputs": [
    {
     "data": {
      "text/plain": [
       "(78, 82)"
      ]
     },
     "execution_count": 41,
     "metadata": {},
     "output_type": "execute_result"
    }
   ],
   "source": [
    "sv.shape"
   ]
  },
  {
   "cell_type": "code",
   "execution_count": 42,
   "id": "1d37543e-851b-4255-a24f-9b1f435ad13d",
   "metadata": {},
   "outputs": [],
   "source": [
    "for pix in P:\n",
    "    sv[pix]"
   ]
  },
  {
   "cell_type": "code",
   "execution_count": 43,
   "id": "31c49351-ab7e-4d1f-95ad-5b72f2deb20e",
   "metadata": {},
   "outputs": [
    {
     "data": {
      "text/plain": [
       "(77, 81)"
      ]
     },
     "execution_count": 43,
     "metadata": {},
     "output_type": "execute_result"
    }
   ],
   "source": [
    "pix"
   ]
  },
  {
   "cell_type": "code",
   "execution_count": 44,
   "id": "472a1e49-980d-4cef-a6b7-174bc8fdba4d",
   "metadata": {},
   "outputs": [
    {
     "data": {
      "text/plain": [
       "(78, 82)"
      ]
     },
     "execution_count": 44,
     "metadata": {},
     "output_type": "execute_result"
    }
   ],
   "source": [
    "np.shape(sv)"
   ]
  },
  {
   "cell_type": "code",
   "execution_count": null,
   "id": "30f53ad8-30ed-454e-95e1-b671e4bc500b",
   "metadata": {},
   "outputs": [],
   "source": [
    "si = (58, 28)"
   ]
  },
  {
   "cell_type": "code",
   "execution_count": 45,
   "id": "90d6af22-56a6-4325-b618-42ea818dfec5",
   "metadata": {},
   "outputs": [
    {
     "name": "stdout",
     "output_type": "stream",
     "text": [
      "Semivariances saved at:  ../experiments/bratislava_experiment/semivariances/semivariance050512022.csv\n",
      "Semivariances mask saved to:  ../experiments/bratislava_experiment/semivariances/semivariance050512022mask.csv\n"
     ]
    }
   ],
   "source": [
    "#path to save collection of semivariances\n",
    "\n",
    "prefix_path = (cfg.experiment + setup[\"experiment_id\"] \n",
    "          + setup[\"folder_semivariances\"] \n",
    "          + setup[\"output_semivariances\"])\n",
    "\n",
    "\n",
    "filesv = ( prefix_path + \".csv\")\n",
    "\n",
    "print(\"Semivariances saved at: \", filesv)\n",
    "\n",
    "#filesvmask = (cfg.experiment + setup[\"experiment_id\"] \n",
    "#              + setup[\"folder_semivariances\"] \n",
    "#              + setup[\"output_semivariances\"] \n",
    "#              + \"mask.csv\")\n",
    "\n",
    "\n",
    "#path to save collection of masks\n",
    "#each semivariance map is associated with a mask.\n",
    "#mask defines the region of influence\n",
    "\n",
    "filesvmask = (prefix_path + \"mask.csv\")\n",
    "\n",
    "print(\"Semivariances mask saved to: \", filesvmask)"
   ]
  },
  {
   "cell_type": "code",
   "execution_count": null,
   "id": "d58a9f55-8dec-4ed6-acf6-e6c95611631f",
   "metadata": {},
   "outputs": [],
   "source": []
  },
  {
   "cell_type": "code",
   "execution_count": 46,
   "id": "c77f5ead-5e3a-49c0-91d8-15d3c6a12e13",
   "metadata": {},
   "outputs": [],
   "source": [
    "\n",
    "\n",
    "df_semivariance = pd.DataFrame(allsemivariances)\n",
    "df_semivariance.insert(0, \"coordsy\", coords[:,0]) \n",
    "df_semivariance.insert(1, \"coordsx\", coords[:,1])\n",
    "df_semivariance.to_csv(filesv)\n",
    "\n",
    "df_semivariance_mask = pd.DataFrame(allmask)\n",
    "df_semivariance_mask.insert(0, \"coordsy\", coords[:,0]) \n",
    "df_semivariance_mask.insert(1, \"coordsx\", coords[:,1])\n",
    "df_semivariance_mask.to_csv(filesvmask)"
   ]
  },
  {
   "cell_type": "code",
   "execution_count": null,
   "id": "1323b039-ea99-4f0b-860d-3d5f54b0eaca",
   "metadata": {},
   "outputs": [],
   "source": []
  }
 ],
 "metadata": {
  "kernelspec": {
   "display_name": "Python 3 (ipykernel)",
   "language": "python",
   "name": "python3"
  },
  "language_info": {
   "codemirror_mode": {
    "name": "ipython",
    "version": 3
   },
   "file_extension": ".py",
   "mimetype": "text/x-python",
   "name": "python",
   "nbconvert_exporter": "python",
   "pygments_lexer": "ipython3",
   "version": "3.9.16"
  }
 },
 "nbformat": 4,
 "nbformat_minor": 5
}
