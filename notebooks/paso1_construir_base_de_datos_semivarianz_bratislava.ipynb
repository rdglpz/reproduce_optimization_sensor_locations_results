{
 "cells": [
  {
   "cell_type": "code",
   "execution_count": 158,
   "id": "40118634",
   "metadata": {},
   "outputs": [],
   "source": [
    "#Cargando librerías \n",
    "\n",
    "from IPython.display import clear_output\n",
    "import importlib\n",
    "\n",
    "from PIL import Image\n",
    "import matplotlib.pyplot as plt\n",
    "import scipy as sp\n",
    "#from scipy import ndimage as ndi\n",
    "import numpy as np\n",
    "import pandas as pd\n",
    "import os\n",
    "import sys  \n",
    "\n",
    "root = os.getcwd() + \"/..\"\n",
    "\n",
    "sys.path.insert(0, root)\n",
    "\n",
    "import src.positioning_sensors as ps\n",
    "importlib.reload(ps)\n",
    "\n",
    "import src.regionGrowing as rg\n",
    "importlib.reload(rg)\n",
    "\n",
    "import src.manageExperiments as me\n",
    "importlib.reload(me)\n",
    "\n",
    "import config.config as cfg\n",
    "importlib.reload(cfg)\n",
    "\n",
    "\n",
    "from skimage.segmentation import watershed\n",
    "from skimage.feature import peak_local_max\n",
    "from skimage.filters import rank\n",
    "\n",
    "from skimage.draw import line\n"
   ]
  },
  {
   "cell_type": "code",
   "execution_count": 159,
   "id": "e8ef8f4a-c918-4884-bb49-ae893b5fbe68",
   "metadata": {},
   "outputs": [],
   "source": [
    "fn = \"bratislava_experiment.txt\""
   ]
  },
  {
   "cell_type": "code",
   "execution_count": 160,
   "id": "777c156a-fd7d-458b-a326-63e866d823d0",
   "metadata": {},
   "outputs": [
    {
     "name": "stdout",
     "output_type": "stream",
     "text": [
      "Read File: ../experiments/bratislava_experiment.txt\n",
      "Creating Directory in: ../experiments/bratislava_experiment/\n",
      "Creating Directory ../experiments/bratislava_experiment/results/\n",
      "Creating Directory: ../experiments/bratislava_experiment/semivariances/\n",
      "Copy bratislava_experiment.txt -> ../experiments/bratislava_experiment/bratislava_experiment.txt\n"
     ]
    }
   ],
   "source": [
    "me.createProject(fn)"
   ]
  },
  {
   "cell_type": "code",
   "execution_count": 161,
   "id": "f657be6b-bef1-48ab-86e3-ae435a437c06",
   "metadata": {},
   "outputs": [],
   "source": [
    "setup = me.readConfigFile(fn)"
   ]
  },
  {
   "cell_type": "code",
   "execution_count": 162,
   "id": "6f99b59d-6b42-4e4c-a4b6-17c3c0c01c8c",
   "metadata": {},
   "outputs": [
    {
     "name": "stdout",
     "output_type": "stream",
     "text": [
      "True\n"
     ]
    }
   ],
   "source": [
    "flat_means_decrease = bool(setup['flatness_means_decrease'])\n",
    "print(flat_means_decrease)"
   ]
  },
  {
   "cell_type": "code",
   "execution_count": 163,
   "id": "11f7149a-f0ec-44b7-96d8-4bcacf85e089",
   "metadata": {},
   "outputs": [],
   "source": [
    "#cargamos imagenes en luminance e importance\n",
    "\n",
    "ilumina = cfg.data + setup[\"folder_input\"] + setup[\"input_ntli\"]\n",
    "niveles = cfg.data + setup[\"folder_input\"] + setup[\"input_evm\"]\n",
    "\n",
    "img = ilumina\n",
    "im1 = np.array(Image.open(img))\n",
    "\n"
   ]
  },
  {
   "cell_type": "code",
   "execution_count": 164,
   "id": "61fed99b-e226-478d-9c85-b3d1b064d17a",
   "metadata": {},
   "outputs": [],
   "source": [
    "#NTLI: luminance\n",
    "NTLI = ps.readIMG(ilumina)\n",
    "\n",
    "#EAM: Environtmental attention map is the importance\n",
    "EAM = ps.readIMG(niveles, invert = True)\n",
    "\n",
    "th = int(setup[\"desaturation_th\"])"
   ]
  },
  {
   "cell_type": "code",
   "execution_count": 165,
   "id": "ac669b62-ccd7-4f07-972f-f03329aad5d5",
   "metadata": {},
   "outputs": [
    {
     "data": {
      "text/plain": [
       "array([[nan, nan, nan, ..., nan, nan, nan],\n",
       "       [nan, nan, nan, ..., nan, nan, nan],\n",
       "       [nan, nan, nan, ..., nan, nan, nan],\n",
       "       ...,\n",
       "       [nan, nan, nan, ..., nan, nan, nan],\n",
       "       [nan, nan, nan, ..., nan, nan, nan],\n",
       "       [nan, nan, nan, ..., nan, nan, nan]], dtype=float32)"
      ]
     },
     "execution_count": 165,
     "metadata": {},
     "output_type": "execute_result"
    }
   ],
   "source": [
    "NTLI"
   ]
  },
  {
   "cell_type": "code",
   "execution_count": 166,
   "id": "3c9c3288-c116-4d29-81e4-e50a71fae126",
   "metadata": {},
   "outputs": [
    {
     "data": {
      "text/plain": [
       "<matplotlib.image.AxesImage at 0x16b0d6a00>"
      ]
     },
     "execution_count": 166,
     "metadata": {},
     "output_type": "execute_result"
    },
    {
     "data": {
      "image/png": "[encoded data removed]",
      "text/plain": [
       "<Figure size 640x480 with 1 Axes>"
      ]
     },
     "metadata": {},
     "output_type": "display_data"
    }
   ],
   "source": [
    "#standarize EAM\n",
    "NTLI[np.isnan(NTLI)] = 0\n",
    "plt.imshow(NTLI)"
   ]
  },
  {
   "cell_type": "code",
   "execution_count": null,
   "id": "ff7eb56d-8454-4e23-8285-c220fbf875e8",
   "metadata": {},
   "outputs": [],
   "source": []
  },
  {
   "cell_type": "code",
   "execution_count": 167,
   "id": "dfd1b6dc-4150-4c4d-b4ba-435527840920",
   "metadata": {},
   "outputs": [
    {
     "data": {
      "text/plain": [
       "<matplotlib.image.AxesImage at 0x16b1ebc10>"
      ]
     },
     "execution_count": 167,
     "metadata": {},
     "output_type": "execute_result"
    },
    {
     "data": {
      "image/png": "[encoded data removed]",
      "text/plain": [
       "<Figure size 640x480 with 1 Axes>"
      ]
     },
     "metadata": {},
     "output_type": "display_data"
    }
   ],
   "source": [
    "EAMBIN = (EAM==254)*1\n",
    "\n",
    "EAM = np.copy(EAMBIN)\n",
    "plt.imshow(EAM)"
   ]
  },
  {
   "cell_type": "code",
   "execution_count": 168,
   "id": "13b31402-edf6-4db3-a382-207974b9ce38",
   "metadata": {},
   "outputs": [],
   "source": [
    "#DNTLI, distance = ps.desaturate(NTLI, th = th)"
   ]
  },
  {
   "cell_type": "code",
   "execution_count": 169,
   "id": "4a570219-b97f-44af-b0e3-32bc186b6acf",
   "metadata": {},
   "outputs": [
    {
     "name": "stderr",
     "output_type": "stream",
     "text": [
      "/var/folders/k9/wpfgnz550_n_k3t9tg8scnlw0000gn/T/ipykernel_39838/1300797728.py:6: DeprecationWarning: Please use `gaussian_filter` from the `scipy.ndimage` namespace, the `scipy.ndimage.filters` namespace is deprecated.\n",
      "  FDNTLI = sp.ndimage.filters.gaussian_filter(NTLI,\n"
     ]
    }
   ],
   "source": [
    "#smoothing parameters\n",
    "sigma_y = setup['filterg_sy']\n",
    "sigma_x =setup['filterg_sx']\n",
    "sigma = [sigma_y, sigma_x]\n",
    "\n",
    "FDNTLI = sp.ndimage.filters.gaussian_filter(NTLI, \n",
    "                                            sigma, \n",
    "                                            mode = setup['gaussian_mode'])\n",
    "\n",
    "\n",
    "#we filter only the values greater than 22\n",
    "#FDNTLI = (FDNTLI>=setup['neglect_values'])*FDNTLI\n",
    "\n",
    "nonsatc = np.copy(FDNTLI)\n",
    "\n",
    "#\n",
    "#nonsatc[si] = 0\n",
    "#plt.imshow(nonsatc)\n",
    "#plt.show()"
   ]
  },
  {
   "cell_type": "code",
   "execution_count": 170,
   "id": "9e7f6807-4359-4ca3-b222-7b8f54685cee",
   "metadata": {},
   "outputs": [
    {
     "data": {
      "text/plain": [
       "<matplotlib.image.AxesImage at 0x169f0b190>"
      ]
     },
     "execution_count": 170,
     "metadata": {},
     "output_type": "execute_result"
    },
    {
     "data": {
      "image/png": "[encoded data removed]",
      "text/plain": [
       "<Figure size 640x480 with 1 Axes>"
      ]
     },
     "metadata": {},
     "output_type": "display_data"
    }
   ],
   "source": [
    "plt.imshow(nonsatc)"
   ]
  },
  {
   "cell_type": "code",
   "execution_count": 171,
   "id": "c2c712f7-7ed8-4e52-a280-ea706918946d",
   "metadata": {},
   "outputs": [],
   "source": [
    "si = (60, 40)"
   ]
  },
  {
   "cell_type": "code",
   "execution_count": 172,
   "id": "1ea474b8-21d7-446d-b4d1-5da773ea2b30",
   "metadata": {},
   "outputs": [
    {
     "data": {
      "text/plain": [
       "[<matplotlib.lines.Line2D at 0x16a733130>]"
      ]
     },
     "execution_count": 172,
     "metadata": {},
     "output_type": "execute_result"
    },
    {
     "data": {
      "image/png": "[encoded data removed]",
      "text/plain": [
       "<Figure size 640x480 with 1 Axes>"
      ]
     },
     "metadata": {},
     "output_type": "display_data"
    }
   ],
   "source": [
    "r = 20\n",
    "#plt.plot(NTLI[si[0],si[1]-r:si[1]+r+1])\n",
    "plt.plot(NTLI[si[0], si[1] - r:si[1] + r + 1])\n",
    "plt.plot(FDNTLI[si[0], si[1] - r:si[1] + r + 1])\n",
    "#plt.vlines(si[1],0,np.max(nonsat2[si[0],:]))\n"
   ]
  },
  {
   "cell_type": "code",
   "execution_count": 173,
   "id": "ac29b399-f62c-4165-9165-783d33c54a75",
   "metadata": {},
   "outputs": [
    {
     "data": {
      "text/plain": [
       "<matplotlib.image.AxesImage at 0x16b287eb0>"
      ]
     },
     "execution_count": 173,
     "metadata": {},
     "output_type": "execute_result"
    },
    {
     "data": {
      "image/png": "[encoded data removed]",
      "text/plain": [
       "<Figure size 640x480 with 1 Axes>"
      ]
     },
     "metadata": {},
     "output_type": "display_data"
    }
   ],
   "source": [
    "plt.imshow(EAM)"
   ]
  },
  {
   "cell_type": "code",
   "execution_count": 174,
   "id": "637ccbb0-2dba-487b-8dd6-877baa62a998",
   "metadata": {},
   "outputs": [
    {
     "data": {
      "text/plain": [
       "<matplotlib.image.AxesImage at 0x16b3014f0>"
      ]
     },
     "execution_count": 174,
     "metadata": {},
     "output_type": "execute_result"
    },
    {
     "data": {
      "image/png": "[encoded data removed]",
      "text/plain": [
       "<Figure size 640x480 with 1 Axes>"
      ]
     },
     "metadata": {},
     "output_type": "display_data"
    }
   ],
   "source": [
    "plt.imshow(FDNTLI)"
   ]
  },
  {
   "cell_type": "code",
   "execution_count": 175,
   "id": "27e8af02-e135-46d5-b3d8-72555b705364",
   "metadata": {},
   "outputs": [],
   "source": [
    "\n",
    "\n",
    "coords = ps.get_coords(FDNTLI>0)\n",
    "\n",
    "#fill the required params\n",
    "#si = (28,19)\n",
    "\n",
    "params = {\"type\": \"semivar\", \n",
    "          \"atol\": setup[\"tolerance_angle\"], \n",
    "          \"dtol\": setup[\"tolerance_distance\"]}\n",
    "\n",
    "\n",
    "sv = np.zeros(FDNTLI.shape)\n",
    "\n",
    "#tell to the class, which object is going to be used to make the semivariogram\n",
    "\n",
    "rG = rg.rGrowing(FDNTLI)\n",
    "\n",
    "rG.setParams(params)\n",
    "\n",
    "n = len(coords)\n",
    "\n",
    "#ncords x imagesize m x n\n",
    "image_size = (n, FDNTLI.shape[0]*FDNTLI.shape[1])\n",
    "allsemivariances = np.zeros(image_size)\n",
    "allmask = np.zeros(image_size)\n",
    "\n",
    "\n",
    "df = pd.DataFrame()\n",
    "\n"
   ]
  },
  {
   "cell_type": "code",
   "execution_count": 176,
   "id": "832affc6-aada-4bc7-9474-3d820eb5a170",
   "metadata": {},
   "outputs": [],
   "source": [
    "si = (60, 40)"
   ]
  },
  {
   "cell_type": "code",
   "execution_count": 177,
   "id": "427aff1f-1b6e-4172-969f-9572906b33da",
   "metadata": {},
   "outputs": [
    {
     "data": {
      "text/plain": [
       "<matplotlib.image.AxesImage at 0x16b3880d0>"
      ]
     },
     "execution_count": 177,
     "metadata": {},
     "output_type": "execute_result"
    },
    {
     "data": {
      "image/png": "[encoded data removed]",
      "text/plain": [
       "<Figure size 640x480 with 1 Axes>"
      ]
     },
     "metadata": {},
     "output_type": "display_data"
    }
   ],
   "source": [
    "sv = rG.makeSemivarianceMap(si)\n",
    "plt.imshow(sv)"
   ]
  },
  {
   "cell_type": "code",
   "execution_count": null,
   "id": "39fa5fc1-7cf6-4e71-b308-09074581928d",
   "metadata": {},
   "outputs": [],
   "source": []
  },
  {
   "cell_type": "code",
   "execution_count": null,
   "id": "356858e3-e448-4cb4-b291-c2d8fea9a4cb",
   "metadata": {},
   "outputs": [],
   "source": []
  },
  {
   "cell_type": "code",
   "execution_count": 178,
   "id": "e11c0986-aa77-494e-8186-a0ced74275f2",
   "metadata": {},
   "outputs": [
    {
     "data": {
      "text/plain": [
       "(60, 40)"
      ]
     },
     "execution_count": 178,
     "metadata": {},
     "output_type": "execute_result"
    }
   ],
   "source": [
    "si"
   ]
  },
  {
   "cell_type": "code",
   "execution_count": 179,
   "id": "533452b0-e7ac-40c8-87e9-693618cfef18",
   "metadata": {},
   "outputs": [
    {
     "data": {
      "text/plain": [
       "<matplotlib.image.AxesImage at 0x16b40f160>"
      ]
     },
     "execution_count": 179,
     "metadata": {},
     "output_type": "execute_result"
    },
    {
     "data": {
      "image/png": "[encoded data removed]",
      "text/plain": [
       "<Figure size 640x480 with 1 Axes>"
      ]
     },
     "metadata": {},
     "output_type": "display_data"
    }
   ],
   "source": [
    "plt.imshow(sv)"
   ]
  },
  {
   "cell_type": "code",
   "execution_count": 180,
   "id": "99946603-7d05-461d-8848-d5198d40ff4b",
   "metadata": {},
   "outputs": [
    {
     "data": {
      "text/plain": [
       "4304"
      ]
     },
     "execution_count": 180,
     "metadata": {},
     "output_type": "execute_result"
    }
   ],
   "source": [
    "len(coords)"
   ]
  },
  {
   "cell_type": "code",
   "execution_count": 181,
   "id": "60c51328-6a01-41ec-9e8f-26ed8d2c0842",
   "metadata": {},
   "outputs": [
    {
     "data": {
      "text/plain": [
       "6396"
      ]
     },
     "execution_count": 181,
     "metadata": {},
     "output_type": "execute_result"
    }
   ],
   "source": [
    "sv.shape[0]*sv.shape[1]"
   ]
  },
  {
   "cell_type": "code",
   "execution_count": null,
   "id": "a68848d7-e1b8-4d33-a04c-732004f950fa",
   "metadata": {},
   "outputs": [
    {
     "name": "stdout",
     "output_type": "stream",
     "text": [
      " 0.42%\n",
      "coords: [ 1 62]\n"
     ]
    }
   ],
   "source": [
    "for i, si in enumerate(coords):\n",
    "    print(\"coords:\", si)\n",
    "    \n",
    "    clear_output(wait = True)\n",
    "    s = \"{percen: 1.2f}%\"\n",
    "    print(s.format(percen = 100*(i + 1)/n))\n",
    "    \n",
    "    si = tuple(si)\n",
    "\n",
    "    #generate a semivariance sv map\n",
    "    sv = rG.makeSemivarianceMap(si)\n",
    "    \n",
    "    #flattne sv to store it in a dataframe\n",
    "    allsemivariances[i] = sv.flatten()\n",
    "    \n",
    "    #construct a mask of sv and then flatten it\n",
    "    allmask[i] = ps.constructMask(si, sv, flat_means_decrease).flatten()"
   ]
  },
  {
   "cell_type": "code",
   "execution_count": 114,
   "id": "28057a1a-cf18-4030-a35c-641d499b301e",
   "metadata": {},
   "outputs": [],
   "source": [
    "svc = np.copy(sv)"
   ]
  },
  {
   "cell_type": "code",
   "execution_count": 115,
   "id": "dc75df9b-870c-4f66-ad88-e05748daf1f7",
   "metadata": {},
   "outputs": [],
   "source": [
    "svc[tuple(si)] = np.max(svc)"
   ]
  },
  {
   "cell_type": "code",
   "execution_count": 116,
   "id": "4b00e034-2ff2-4c3a-8a47-808779c0e2eb",
   "metadata": {},
   "outputs": [
    {
     "data": {
      "text/plain": [
       "<matplotlib.image.AxesImage at 0x16abb16d0>"
      ]
     },
     "execution_count": 116,
     "metadata": {},
     "output_type": "execute_result"
    },
    {
     "data": {
      "image/png": "[encoded data removed]",
      "text/plain": [
       "<Figure size 640x480 with 1 Axes>"
      ]
     },
     "metadata": {},
     "output_type": "display_data"
    }
   ],
   "source": [
    "plt.imshow(svc)"
   ]
  },
  {
   "cell_type": "code",
   "execution_count": 117,
   "id": "020cef7f-3c83-4121-85c0-1d5eefa9d6c9",
   "metadata": {},
   "outputs": [
    {
     "ename": "IndexError",
     "evalue": "index 78 is out of bounds for axis 0 with size 78",
     "output_type": "error",
     "traceback": [
      "\u001b[0;31m---------------------------------------------------------------------------\u001b[0m",
      "\u001b[0;31mIndexError\u001b[0m                                Traceback (most recent call last)",
      "Cell \u001b[0;32mIn[117], line 1\u001b[0m\n\u001b[0;32m----> 1\u001b[0m \u001b[43mps\u001b[49m\u001b[38;5;241;43m.\u001b[39;49m\u001b[43mconstructMask\u001b[49m\u001b[43m(\u001b[49m\u001b[43msi\u001b[49m\u001b[43m,\u001b[49m\u001b[43m \u001b[49m\u001b[43msv\u001b[49m\u001b[43m,\u001b[49m\u001b[43m \u001b[49m\u001b[43mflat_means_decrease\u001b[49m\u001b[43m)\u001b[49m\u001b[38;5;241m.\u001b[39mflatten()\n",
      "File \u001b[0;32m~/Documents/SourcesCodes/GitHub/reproduce_optimization_sensor_locations_results/notebooks/../src/positioning_sensors.py:650\u001b[0m, in \u001b[0;36mconstructMask\u001b[0;34m(si, img, flatMeansDecrease)\u001b[0m\n\u001b[1;32m    646\u001b[0m \u001b[38;5;28;01mfor\u001b[39;00m i \u001b[38;5;129;01min\u001b[39;00m \u001b[38;5;28mrange\u001b[39m(\u001b[38;5;28mlen\u001b[39m(rr)):\n\u001b[1;32m    648\u001b[0m     a \u001b[38;5;241m=\u001b[39m (rr[i],cc[i])\n\u001b[0;32m--> 650\u001b[0m     l\u001b[38;5;241m.\u001b[39mappend(\u001b[43mimg\u001b[49m\u001b[43m[\u001b[49m\u001b[43ma\u001b[49m\u001b[43m]\u001b[49m)\n\u001b[1;32m    652\u001b[0m \u001b[38;5;66;03m#calculate the differences\u001b[39;00m\n\u001b[1;32m    654\u001b[0m derivative \u001b[38;5;241m=\u001b[39m np\u001b[38;5;241m.\u001b[39marray(l[\u001b[38;5;241m1\u001b[39m:] \u001b[38;5;241m-\u001b[39m np\u001b[38;5;241m.\u001b[39marray(l[:\u001b[38;5;241m-\u001b[39m\u001b[38;5;241m1\u001b[39m]))\n",
      "\u001b[0;31mIndexError\u001b[0m: index 78 is out of bounds for axis 0 with size 78"
     ]
    }
   ],
   "source": [
    "ps.constructMask(si, sv, flat_means_decrease).flatten()"
   ]
  },
  {
   "cell_type": "code",
   "execution_count": 118,
   "id": "9e6e0dd8-120d-497f-b6af-1e42a6ddd64b",
   "metadata": {},
   "outputs": [],
   "source": [
    "P = ps.perimeter(sv)"
   ]
  },
  {
   "cell_type": "code",
   "execution_count": 125,
   "id": "18a9e534-c415-470f-8746-bd0d4d5354f1",
   "metadata": {},
   "outputs": [
    {
     "data": {
      "text/plain": [
       "(78, 82)"
      ]
     },
     "execution_count": 125,
     "metadata": {},
     "output_type": "execute_result"
    }
   ],
   "source": [
    "FDNTLI.shape"
   ]
  },
  {
   "cell_type": "code",
   "execution_count": 126,
   "id": "bd32a156-5fcb-44c7-b6ad-ba8b6eacdac3",
   "metadata": {},
   "outputs": [
    {
     "data": {
      "text/plain": [
       "(78, 82)"
      ]
     },
     "execution_count": 126,
     "metadata": {},
     "output_type": "execute_result"
    }
   ],
   "source": [
    "sv.shape"
   ]
  },
  {
   "cell_type": "code",
   "execution_count": 123,
   "id": "1d37543e-851b-4255-a24f-9b1f435ad13d",
   "metadata": {},
   "outputs": [
    {
     "ename": "IndexError",
     "evalue": "index 81 is out of bounds for axis 0 with size 78",
     "output_type": "error",
     "traceback": [
      "\u001b[0;31m---------------------------------------------------------------------------\u001b[0m",
      "\u001b[0;31mIndexError\u001b[0m                                Traceback (most recent call last)",
      "Cell \u001b[0;32mIn[123], line 2\u001b[0m\n\u001b[1;32m      1\u001b[0m \u001b[38;5;28;01mfor\u001b[39;00m pix \u001b[38;5;129;01min\u001b[39;00m P:\n\u001b[0;32m----> 2\u001b[0m     \u001b[43msv\u001b[49m\u001b[43m[\u001b[49m\u001b[43mpix\u001b[49m\u001b[43m]\u001b[49m\n",
      "\u001b[0;31mIndexError\u001b[0m: index 81 is out of bounds for axis 0 with size 78"
     ]
    }
   ],
   "source": [
    "for pix in P:\n",
    "    sv[pix]"
   ]
  },
  {
   "cell_type": "code",
   "execution_count": 127,
   "id": "31c49351-ab7e-4d1f-95ad-5b72f2deb20e",
   "metadata": {},
   "outputs": [
    {
     "data": {
      "text/plain": [
       "(81, 0)"
      ]
     },
     "execution_count": 127,
     "metadata": {},
     "output_type": "execute_result"
    }
   ],
   "source": [
    "pix"
   ]
  },
  {
   "cell_type": "code",
   "execution_count": 128,
   "id": "472a1e49-980d-4cef-a6b7-174bc8fdba4d",
   "metadata": {},
   "outputs": [
    {
     "data": {
      "text/plain": [
       "(78, 82)"
      ]
     },
     "execution_count": 128,
     "metadata": {},
     "output_type": "execute_result"
    }
   ],
   "source": [
    "np.shape(sv)"
   ]
  },
  {
   "cell_type": "code",
   "execution_count": 23,
   "id": "90d6af22-56a6-4325-b618-42ea818dfec5",
   "metadata": {},
   "outputs": [
    {
     "name": "stdout",
     "output_type": "stream",
     "text": [
      "Semivariances saved at:  ../experiments/config_exp_15062022_redo_exp/semivariances/semivariance050512022.csv\n",
      "Semivariances mask saved to:  ../experiments/config_exp_15062022_redo_exp/semivariances/semivariance050512022mask.csv\n"
     ]
    }
   ],
   "source": [
    "#path to save collection of semivariances\n",
    "\n",
    "prefix_path = (cfg.experiment + setup[\"experiment_id\"] \n",
    "          + setup[\"folder_semivariances\"] \n",
    "          + setup[\"output_semivariances\"])\n",
    "\n",
    "\n",
    "filesv = ( prefix_path + \".csv\")\n",
    "\n",
    "print(\"Semivariances saved at: \", filesv)\n",
    "\n",
    "#filesvmask = (cfg.experiment + setup[\"experiment_id\"] \n",
    "#              + setup[\"folder_semivariances\"] \n",
    "#              + setup[\"output_semivariances\"] \n",
    "#              + \"mask.csv\")\n",
    "\n",
    "\n",
    "#path to save collection of masks\n",
    "#each semivariance map is associated with a mask.\n",
    "#mask defines the region of influence\n",
    "\n",
    "filesvmask = (prefix_path + \"mask.csv\")\n",
    "\n",
    "print(\"Semivariances mask saved to: \", filesvmask)"
   ]
  },
  {
   "cell_type": "code",
   "execution_count": null,
   "id": "d58a9f55-8dec-4ed6-acf6-e6c95611631f",
   "metadata": {},
   "outputs": [],
   "source": []
  },
  {
   "cell_type": "code",
   "execution_count": 24,
   "id": "c77f5ead-5e3a-49c0-91d8-15d3c6a12e13",
   "metadata": {},
   "outputs": [],
   "source": [
    "\n",
    "\n",
    "df_semivariance = pd.DataFrame(allsemivariances)\n",
    "df_semivariance.insert(0, \"coordsy\", coords[:,0]) \n",
    "df_semivariance.insert(1, \"coordsx\", coords[:,1])\n",
    "df_semivariance.to_csv(filesv)\n",
    "\n",
    "df_semivariance_mask = pd.DataFrame(allmask)\n",
    "df_semivariance_mask.insert(0, \"coordsy\", coords[:,0]) \n",
    "df_semivariance_mask.insert(1, \"coordsx\", coords[:,1])\n",
    "df_semivariance_mask.to_csv(filesvmask)"
   ]
  },
  {
   "cell_type": "code",
   "execution_count": null,
   "id": "1323b039-ea99-4f0b-860d-3d5f54b0eaca",
   "metadata": {},
   "outputs": [],
   "source": []
  }
 ],
 "metadata": {
  "kernelspec": {
   "display_name": "Python 3 (ipykernel)",
   "language": "python",
   "name": "python3"
  },
  "language_info": {
   "codemirror_mode": {
    "name": "ipython",
    "version": 3
   },
   "file_extension": ".py",
   "mimetype": "text/x-python",
   "name": "python",
   "nbconvert_exporter": "python",
   "pygments_lexer": "ipython3",
   "version": "3.9.16"
  }
 },
 "nbformat": 4,
 "nbformat_minor": 5
}
